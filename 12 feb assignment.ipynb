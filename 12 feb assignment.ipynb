{
 "cells": [
  {
   "cell_type": "markdown",
   "id": "cf73c7d1-1223-42ed-99c4-1a2edaf9efc4",
   "metadata": {},
   "source": [
    "Q1. What is an Exception in python? Write the difference between Exceptions and Syntax errors."
   ]
  },
  {
   "cell_type": "markdown",
   "id": "7cdd9f0f-1b3d-4d33-95be-2dc9169b061e",
   "metadata": {},
   "source": [
    "Answer:In Python, an exception is an event that occurs during the execution of a program that disrupts the normal flow of the program's instructions. When an exception occurs, the program stops executing and Python raises an error message, providing information about what went wrong. Exceptions can occur for a variety of reasons, such as invalid input, file not found, network errors, and so on.\n",
    "\n",
    "Syntax errors, on the other hand, are errors that occur when the Python interpreter cannot parse the code because of incorrect syntax. These errors usually occur before the program is executed and prevent the program from running at all. Examples of syntax errors include misspelled keywords, missing colons, incorrect indentation, and other similar errors.\n",
    "\n",
    "The key differences between exceptions and syntax errors are as follows:\n",
    "\n",
    "1.Timing of occurrence: Syntax errors occur before the program starts running, while exceptions occur during program execution.\n",
    "\n",
    "2.Cause: Syntax errors are caused by incorrect syntax, whereas exceptions are caused by unexpected situations that occur during program execution.\n",
    "\n",
    "3.Handling: Syntax errors must be fixed by correcting the code, while exceptions can be handled by using try-except blocks, which allow you to catch the exception and handle it in a way that allows the program to continue running.\n",
    "\n",
    "4.Error message: Syntax errors usually provide a simple error message indicating the line number and type of error, while exceptions can provide more detailed information about the cause of the error, such as a traceback and a description of the error type."
   ]
  },
  {
   "cell_type": "markdown",
   "id": "4a62e559-4a82-42ad-89bb-d5a2cedfa1e1",
   "metadata": {},
   "source": [
    "Q2. What happens when the exception is not handled? Explain with example."
   ]
  },
  {
   "cell_type": "markdown",
   "id": "ddfe95ce-bafe-494d-8cde-442089062183",
   "metadata": {},
   "source": [
    "Answer. When an exception is not handled in Python, the program will terminate and display an error message that includes a traceback showing the chain of function calls that led to the exception.\n",
    "\n",
    "Here's an example to illustrate what happens when an exception is not handled:"
   ]
  },
  {
   "cell_type": "code",
   "execution_count": 2,
   "id": "709a16d2-c98e-4233-8e1a-8c75ba289d0a",
   "metadata": {},
   "outputs": [
    {
     "name": "stdout",
     "output_type": "stream",
     "text": [
      "Cannot divide by zero\n"
     ]
    },
    {
     "ename": "ZeroDivisionError",
     "evalue": "division by zero",
     "output_type": "error",
     "traceback": [
      "\u001b[0;31m---------------------------------------------------------------------------\u001b[0m",
      "\u001b[0;31mZeroDivisionError\u001b[0m                         Traceback (most recent call last)",
      "Cell \u001b[0;32mIn[2], line 13\u001b[0m\n\u001b[1;32m     10\u001b[0m     \u001b[38;5;28mprint\u001b[39m(\u001b[38;5;124m\"\u001b[39m\u001b[38;5;124mResult is:\u001b[39m\u001b[38;5;124m\"\u001b[39m, result)\n\u001b[1;32m     12\u001b[0m \u001b[38;5;66;03m# Example 2: not handling the exception\u001b[39;00m\n\u001b[0;32m---> 13\u001b[0m result \u001b[38;5;241m=\u001b[39m \u001b[43mdivide\u001b[49m\u001b[43m(\u001b[49m\u001b[38;5;241;43m5\u001b[39;49m\u001b[43m,\u001b[49m\u001b[43m \u001b[49m\u001b[38;5;241;43m0\u001b[39;49m\u001b[43m)\u001b[49m\n\u001b[1;32m     14\u001b[0m \u001b[38;5;28mprint\u001b[39m(\u001b[38;5;124m\"\u001b[39m\u001b[38;5;124mResult is:\u001b[39m\u001b[38;5;124m\"\u001b[39m, result)\n",
      "Cell \u001b[0;32mIn[2], line 2\u001b[0m, in \u001b[0;36mdivide\u001b[0;34m(x, y)\u001b[0m\n\u001b[1;32m      1\u001b[0m \u001b[38;5;28;01mdef\u001b[39;00m \u001b[38;5;21mdivide\u001b[39m(x,y):\n\u001b[0;32m----> 2\u001b[0m     result \u001b[38;5;241m=\u001b[39m \u001b[43mx\u001b[49m\u001b[38;5;241;43m/\u001b[39;49m\u001b[43my\u001b[49m\n\u001b[1;32m      3\u001b[0m     \u001b[38;5;28;01mreturn\u001b[39;00m result\n",
      "\u001b[0;31mZeroDivisionError\u001b[0m: division by zero"
     ]
    }
   ],
   "source": [
    "def divide(x,y):\n",
    "    result = x/y\n",
    "    return result\n",
    "# Example 1: handling the exception\n",
    "try:\n",
    "    result = divide(5,0)\n",
    "except ZeroDivisionError:\n",
    "    print(\"Cannot divide by zero\")\n",
    "else:\n",
    "    print(\"Result is:\", result)\n",
    "\n",
    "# Example 2: not handling the exception\n",
    "result = divide(5, 0)\n",
    "print(\"Result is:\", result)"
   ]
  },
  {
   "cell_type": "markdown",
   "id": "8cf8f89c-6063-4723-833f-4a32f6e02aa5",
   "metadata": {},
   "source": [
    "with an error message displayed on the console or in a log file. This can lead to unexpected behavior and potentially corrupt data or files."
   ]
  },
  {
   "cell_type": "markdown",
   "id": "1e94ba21-49d2-4c3e-931e-b6f7b43fd9ea",
   "metadata": {},
   "source": [
    "Q3. Which Python statements are used to catch and handle exceptions? Explain with example."
   ]
  },
  {
   "cell_type": "markdown",
   "id": "5b1f1f1d-233e-4f35-9428-359dbfddd391",
   "metadata": {},
   "source": [
    "Answer : In Python, the try and except statements are used to catch and handle exceptions. The try statement is used to enclose the code that may raise an exception, while the except statement is used to define the block of code that will handle the exception if it is raised.\n",
    "\n",
    "Here's an example of using try and except statements to handle a ValueError exception: In this code, we are trying to divide two numbers entered by the user. If the user enters invalid input, such as a string instead of a number, the ValueError exception will be raised. However, we have enclosed the code that may raise the exception within the try block, and we have defined the block of code that will handle the exception within the except block. If a ValueError exception is raised, the program will print \"Please enter valid numbers.\" to the console."
   ]
  },
  {
   "cell_type": "code",
   "execution_count": null,
   "id": "3a89adc1-67d7-4aa1-b5f9-ce6ac3df8271",
   "metadata": {},
   "outputs": [],
   "source": [
    "# Example Question 3?\n",
    "try:\n",
    "    num1 = int(input(\"Enter the first number: \"))\n",
    "    num2 = int(input(\"Enter the second number: \"))\n",
    "    result = num1 / num2\n",
    "    print(f\"The result is: {result}\")\n",
    "except ValueError:\n",
    "    print(\"Please enter valid numbers.\")\n",
    "\n",
    "\"\"\"We can also use multiple except statements to handle different types of exceptions. Here's an example:\"\"\"\n",
    "try:\n",
    "    num1 = int(input(\"Enter the first number: \"))\n",
    "    num2 = int(input(\"Enter the second number: \"))\n",
    "    result = num1 / num2\n",
    "    print(f\"The result is: {result}\")\n",
    "except ValueError:\n",
    "    print(\"Please enter valid numbers.\")\n",
    "except ZeroDivisionError:\n",
    "    print(\"Cannot divide by zero.\")"
   ]
  },
  {
   "cell_type": "markdown",
   "id": "cab617be-9ce6-40ec-a938-d55d211641bb",
   "metadata": {},
   "source": [
    "Question 4 :Explain with an example :\n",
    " a. try and else\n",
    " b. finally\n",
    " c. raise "
   ]
  },
  {
   "cell_type": "markdown",
   "id": "75f5f673-7f77-405e-9500-f35a7fbb75d4",
   "metadata": {},
   "source": [
    "Answer:\n",
    "a. try and else: In Python, the else block can be used along with the try block to specify a code block that should be executed when no exception occurs in the try block. Here's an example: In this code, we are trying to divide two numbers entered by the user. If the user enters invalid input, such as a string instead of a number, a ValueError exception will be raised. If the user enters zero as the second number, a ZeroDivisionError exception will be raised. If neither exception occurs and the division operation is successful, the else block will execute and print the result.\n",
    "\n",
    "b. finally: In Python, the finally block can be used to specify a block of code that should be executed whether or not an exception occurs in the try block. Here's an example: In this code, we are trying to open a file named \"myfile.txt\" for reading. If an IOErro exception occurs while trying to open the file, the program will print an error message. Regardless of whether or not an exception occurs, the finally block will execute and close the file.\n",
    "\n",
    "c. raise: In Python, the raise statement can be used to raise an exception. Here's an example: In this code, we are defining a function named divide that performs division and raises a ZeroDivisionError exception if the second argument is zero. We are then calling the divide function with arguments 10 and 0 inside a try block. Since the second argument is zero, a ZeroDivisionError exception will be raised and caught in the except block, where we print the error message."
   ]
  },
  {
   "cell_type": "code",
   "execution_count": null,
   "id": "7c73f06f-fc8e-4c84-85b4-4e4ae59abb36",
   "metadata": {},
   "outputs": [],
   "source": [
    "\"\"\"example for a\"\"\"\n",
    "try:\n",
    "    num1 = int(input(\"Enter the first number: \"))\n",
    "    num2 = int(input(\"Enter the second number: \"))\n",
    "    result = num1 / num2\n",
    "except ValueError:\n",
    "    print(\"Please enter valid numbers.\")\n",
    "except ZeroDivisionError:\n",
    "    print(\"Cannot divide by zero.\")\n",
    "else:\n",
    "    print(f\"The result is: {result}\")\n",
    "\n",
    "\"\"\"example for b\"\"\"\n",
    "try:\n",
    "    f = open(\"myfile.txt\", \"r\")\n",
    "    # perform some file operations\n",
    "except IOError:\n",
    "    print(\"Error: could not open file\")\n",
    "finally:\n",
    "    f.close()\n",
    "\n",
    "\"\"\"Example for c\"\"\"\n",
    "def divide(num1, num2):\n",
    "    if num2 == 0:\n",
    "        raise ZeroDivisionError(\"Cannot divide by zero\")\n",
    "    return num1 / num2\n",
    "\n",
    "try:\n",
    "    result = divide(10, 0)\n",
    "except ZeroDivisionError as e:\n",
    "    print(e)"
   ]
  },
  {
   "cell_type": "markdown",
   "id": "4007f371-3775-437f-a2f4-ee467f337b89",
   "metadata": {},
   "source": [
    "Question 5 : What are custom exception in python ? Why do we need custom exception in python.? Explain with an example."
   ]
  },
  {
   "cell_type": "markdown",
   "id": "2b2f1983-f23a-4742-8382-0102b9fbe915",
   "metadata": {},
   "source": [
    "Answer :In Python, custom exceptions are user-defined exceptions that are created by the programmer to represent specific errors that may occur in a program. Custom exceptions allow the programmer to define their own error conditions and provide custom error messages, which can make it easier to debug and maintain the code.\n",
    "\n",
    "We need custom exceptions in Python because built-in exceptions may not always be specific enough to describe the type of error that occurred in our code. For example, if we are building an application that reads and writes files, and encounters an error while reading a file, the built-in IOError exception may not provide enough information to determine the cause of the error. In such cases, we can define our own custom exception, such as FileReadError, to represent this specific error condition. ere's an example of defining and using a custom exception in Python:"
   ]
  },
  {
   "cell_type": "code",
   "execution_count": null,
   "id": "22e0802a-4368-41c5-b222-137d4e125948",
   "metadata": {},
   "outputs": [],
   "source": [
    "class FileReadError(Exception):\n",
    "    def __init__(self, filename):\n",
    "        self.filename = filename\n",
    "    \n",
    "    def __str__(self):\n",
    "        return f\"Error reading file {self.filename}\"\n",
    "\n",
    "def read_file(filename):\n",
    "    try:\n",
    "        with open(filename, 'r') as f:\n",
    "            # perform file operations here\n",
    "    except IOError:\n",
    "        raise FileReadError(filename)\n",
    "\n",
    "try:\n",
    "    read_file(\"myfile.txt\")\n",
    "except FileReadError as e:\n",
    "    print(e)"
   ]
  },
  {
   "cell_type": "markdown",
   "id": "5ca36bc5-0697-40e8-88b8-065d61f7a1ab",
   "metadata": {},
   "source": [
    "In this code, we have defined a custom exception named FileReadError that inherits from the base Exception class. The FileReadError exception takes a filename argument in its constructor, and overrides the __str__ method to provide a custom error message.\n",
    "\n",
    "We are then defining a function named read_file that reads a file and raises a FileReadError exception if an IOError occurs while trying to read the file.\n",
    "\n",
    "In the try block, we are calling the read_file function and catching any FileReadError exceptions that may be raised. If a FileReadError exception is caught, we print the error message. Using custom exceptions can make our code more readable and easier to maintain, as it allows us to handle specific error conditions in a more meaningful way."
   ]
  },
  {
   "cell_type": "markdown",
   "id": "7fa9830c-36c6-4928-8429-3cee76c560b6",
   "metadata": {},
   "source": [
    "Question 6 : Create a custom exception class. Use that class to handle and exception."
   ]
  },
  {
   "cell_type": "markdown",
   "id": "243ff6eb-22c2-4730-bafc-641093d78531",
   "metadata": {},
   "source": [
    " Answer :In this code, we have defined a custom exception class named NegativeNumberError that inherits from the base Exception class. The NegativeNumberError exception is raised when the input to the calculate_squarefunction is a negative number.\n",
    "\n",
    "We are then defining a function named calculate_square that calculates the square of a number, and raises a NegativeNumberError exception if the input is negative.\n",
    "\n",
    "In the try block, we are calling the calculate_square function with a negative number (-5). Since the input is negative, a NegativeNumberError exception is raised. We are catching the exception in the except block and printing the error message."
   ]
  },
  {
   "cell_type": "code",
   "execution_count": 11,
   "id": "ac1e032c-db6d-4adf-9195-8bceb45bfefa",
   "metadata": {},
   "outputs": [
    {
     "name": "stdout",
     "output_type": "stream",
     "text": [
      "Error: Input must be a positive number\n"
     ]
    }
   ],
   "source": [
    "class NegativeNumberError(Exception):\n",
    "    \"\"\"Custom exception for negative numbers\"\"\"\n",
    "    pass\n",
    "\n",
    "def calculate_square(num):\n",
    "    if num < 0:\n",
    "        raise NegativeNumberError(\"Input must be a positive number\")\n",
    "    return num**2\n",
    "\n",
    "try:\n",
    "    result = calculate_square(-5)\n",
    "    print(result)\n",
    "except NegativeNumberError as e:\n",
    "    print(f\"Error: {e}\")"
   ]
  },
  {
   "cell_type": "code",
   "execution_count": null,
   "id": "f2fc16b5-613a-418b-945a-3ca9526644c1",
   "metadata": {},
   "outputs": [],
   "source": []
  }
 ],
 "metadata": {
  "kernelspec": {
   "display_name": "Python 3 (ipykernel)",
   "language": "python",
   "name": "python3"
  },
  "language_info": {
   "codemirror_mode": {
    "name": "ipython",
    "version": 3
   },
   "file_extension": ".py",
   "mimetype": "text/x-python",
   "name": "python",
   "nbconvert_exporter": "python",
   "pygments_lexer": "ipython3",
   "version": "3.10.8"
  }
 },
 "nbformat": 4,
 "nbformat_minor": 5
}
